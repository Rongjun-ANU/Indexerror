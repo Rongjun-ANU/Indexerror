{
 "cells": [
  {
   "cell_type": "code",
   "execution_count": 1,
   "id": "treated-arrest",
   "metadata": {},
   "outputs": [
    {
     "name": "stderr",
     "output_type": "stream",
     "text": [
      "/tmp/ipykernel_929193/1414713785.py:24: DeprecationWarning: `set_matplotlib_formats` is deprecated since IPython 7.23, directly use `matplotlib_inline.backend_inline.set_matplotlib_formats()`\n",
      "  set_matplotlib_formats('svg')\n",
      "soxs : [WARNING  ] 2023-10-12 15:23:12,419 Setting 'soxs_data_dir' to /home/rongjun/.cache/soxs for this session. Please update your configuration if you want it somewhere else.\n"
     ]
    }
   ],
   "source": [
    "from IPython.display import set_matplotlib_formats\n",
    "from scipy import interpolate\n",
    "from scipy import optimize\n",
    "from scipy.optimize import curve_fit\n",
    "from scipy.stats import gaussian_kde\n",
    "from decimal import *\n",
    "# from tabulate import tabulate\n",
    "from astropy.table import QTable\n",
    "from astropy.io import fits\n",
    "from astropy.io import ascii\n",
    "import math\n",
    "import numpy as np\n",
    "np.float = np.float64\n",
    "np.int = np.int64\n",
    "import matplotlib.pyplot as plt\n",
    "import matplotlib.colors as mcolors\n",
    "import matplotlib.ticker as mticker\n",
    "import scipy.stats as st\n",
    "from astropy import constants as c\n",
    "from astropy import units as u\n",
    "from astropy.cosmology import FlatLambdaCDM\n",
    "cosmo = FlatLambdaCDM(H0=70 * u.km / u.s / u.Mpc, Tcmb0=2.725 * u.K, Om0=0.3)\n",
    "%matplotlib inline\n",
    "set_matplotlib_formats('svg')\n",
    "import matplotlib.cm\n",
    "import glob\n",
    "import h5py\n",
    "import os\n",
    "import time as ostime\n",
    "import scipy.interpolate as interpolate\n",
    "from multiprocessing import Process, Queue\n",
    "import multiprocessing\n",
    "import matplotlib.cm     as cm\n",
    "from scipy import optimize\n",
    "from scipy import stats\n",
    "import datetime\n",
    "import argparse\n",
    "import unyt\n",
    "from unyt import unyt_array\n",
    "import yt\n",
    "# yt.toggle_interactivity()\n",
    "from yt.units import kpc\n",
    "from yt.units import dimensions\n",
    "import pyxsim\n",
    "from pyxsim.source_models import CIESourceModel\n",
    "\n",
    "# plt.rcParams['figure.dpi'] = 300\n",
    "plt.rcParams['figure.figsize'] = [12, 8]\n",
    "\n",
    "# colormap = plt.cm.get_cmap('brg') #or arbre"
   ]
  },
  {
   "cell_type": "code",
   "execution_count": 2,
   "id": "swiss-opinion",
   "metadata": {},
   "outputs": [],
   "source": [
    "# Import values\n",
    "gamma = 5/3\n",
    "boltzmann_constant_cgs = (c.k_B.to(u.erg / u.K)).value*unyt.erg/unyt.K\n",
    "start_time = ostime.time()\n",
    "m_p_cgs = (c.m_p.to(u.g)).value*unyt.g"
   ]
  },
  {
   "cell_type": "code",
   "execution_count": 3,
   "id": "interstate-quilt",
   "metadata": {},
   "outputs": [
    {
     "name": "stderr",
     "output_type": "stream",
     "text": [
      "yt : [INFO     ] 2023-10-12 15:23:12,959 Parameters: current_time              = 4858047908532521.0\n",
      "yt : [INFO     ] 2023-10-12 15:23:12,960 Parameters: domain_dimensions         = [ 128  128 1024]\n",
      "yt : [INFO     ] 2023-10-12 15:23:12,961 Parameters: domain_left_edge          = [ 0.0000e+00  0.0000e+00 -1.2072e+22]\n",
      "yt : [INFO     ] 2023-10-12 15:23:12,961 Parameters: domain_right_edge         = [3.0180e+21 3.0180e+21 1.2072e+22]\n"
     ]
    }
   ],
   "source": [
    "# unit_base = {\n",
    "#     \"length\": (1.0, \"kpc\"),\n",
    "#     \"velocity\": (1.0, \"km/s\"),\n",
    "#     \"mass\": (1.0, \"Msun\"),\n",
    "#     \"density\": (1.0, \"g/cm**3\")\n",
    "# }\n",
    "\n",
    "ds_plt1555000 = yt.load(\"plt1555000\", default_species_fields='ionized')"
   ]
  },
  {
   "cell_type": "code",
   "execution_count": 4,
   "id": "dense-cover",
   "metadata": {},
   "outputs": [
    {
     "name": "stdout",
     "output_type": "stream",
     "text": [
      "[('boxlib', 'gasDensity'), ('boxlib', 'gasEnergy'), ('boxlib', 'gasInternalEnergy'), ('boxlib', 'scalar_0'), ('boxlib', 'scalar_1'), ('boxlib', 'scalar_2'), ('boxlib', 'x-GasMomentum'), ('boxlib', 'y-GasMomentum'), ('boxlib', 'z-GasMomentum')]\n"
     ]
    }
   ],
   "source": [
    "print(ds_plt1555000.field_list)"
   ]
  },
  {
   "cell_type": "code",
   "execution_count": 5,
   "id": "headed-roller",
   "metadata": {},
   "outputs": [],
   "source": [
    "# Define the level of refinement. For base level, use level=0.\n",
    "level = 0\n",
    "\n",
    "# Find the domain dimensions of the dataset at the specified level of refinement.\n",
    "dims = ds_plt1555000.domain_dimensions * ds_plt1555000.refine_by**level\n",
    "\n",
    "# Use the covering_grid method with the dataset's domain left and right edges.\n",
    "covering_grid = ds_plt1555000.covering_grid(level=level, left_edge=ds_plt1555000.domain_left_edge, dims=dims)\n",
    "gasDensity = covering_grid[(\"boxlib\", \"gasDensity\")]\n",
    "gasInternalEnergy = covering_grid[(\"boxlib\", \"gasInternalEnergy\")]\n",
    "\n",
    "time = ds_plt1555000.current_time.to('Myr')\n",
    "\n",
    "def _gasDensity(field, data):\n",
    "    density = gasDensity*unyt.g/unyt.cm**3\n",
    "    return density\n",
    "\n",
    "ds_plt1555000.add_field(('gas', 'density'), \n",
    "                        function=_gasDensity, units='g/cm**3', sampling_type='cell', force_override=True)\n",
    "\n",
    "def _gasInternalEnergy(field, data):\n",
    "    InternalEnergy = gasInternalEnergy*unyt.erg\n",
    "    return InternalEnergy\n",
    "\n",
    "ds_plt1555000.add_field(('gas', 'gasInternalEnergy'), \n",
    "                        function=_gasInternalEnergy, units='erg', sampling_type='cell', force_override=True)"
   ]
  },
  {
   "cell_type": "code",
   "execution_count": 6,
   "id": "filled-australian",
   "metadata": {
    "scrolled": false
   },
   "outputs": [
    {
     "name": "stdout",
     "output_type": "stream",
     "text": [
      "(128, 128, 1024)\n",
      "(128, 128, 1024)\n",
      "153.9422487303382 Myr\n"
     ]
    }
   ],
   "source": [
    "print(gasDensity.shape)\n",
    "print(gasInternalEnergy.shape)\n",
    "print(time)"
   ]
  },
  {
   "cell_type": "code",
   "execution_count": 7,
   "id": "moral-duncan",
   "metadata": {},
   "outputs": [],
   "source": [
    "#Grackle Cooling Table\n",
    "file = 'grackle_data_files/input/CloudyData_UVB=HM2012.h5'\n",
    "grackle = h5py.File(file)\n",
    "array = grackle['CoolingRates/Primordial/MMW'][()]\n",
    "table = array[:,0,:]\n",
    "table_nH   = np.logspace(-6, 4, array.shape[0])\n",
    "table_temp = np.logspace(1,  9, array.shape[2])\n",
    "\n",
    "bins = 100\n",
    "egas_arr = np.logspace(-16., -5., bins)\n",
    "nH_arr   = np.logspace(-6.0, 4.0, int(bins))\n",
    "logrho_arr = np.log10(nH_arr[:-1])\n",
    "logEgas_arr = np.log10(egas_arr[:-1])\n",
    "\n",
    "#Set up the interpolator\n",
    "\n",
    "T = np.zeros((egas_arr.shape[0],nH_arr.shape[0]))\n",
    "i=0\n",
    "for egas in egas_arr:\n",
    "    j=0\n",
    "    for nH in nH_arr:\n",
    "        C = (gamma - 1.) * egas / (boltzmann_constant_cgs.v*nH)\n",
    "        minT = C*np.amin(table)\n",
    "        maxT = C*np.amax(table)\n",
    "        def func(T):\n",
    "            mu = interpolate.interp2d(table_temp, table_nH, table,\\\n",
    "                              kind='linear', copy=True, bounds_error=False, fill_value=None)\n",
    "            return C*mu(T,nH)[0] - T\n",
    "\n",
    "        T[i,j] = optimize.toms748(func, minT, maxT)\n",
    "        j+=1\n",
    "    i+=1"
   ]
  },
  {
   "cell_type": "code",
   "execution_count": 8,
   "id": "tutorial-geneva",
   "metadata": {},
   "outputs": [
    {
     "name": "stdout",
     "output_type": "stream",
     "text": [
      "x_range: (unyt_quantity(0., 'kpc'), unyt_quantity(0.97806719, 'kpc'))\n",
      "y_range: (unyt_quantity(0., 'kpc'), unyt_quantity(0.97806719, 'kpc'))\n",
      "z_range: (unyt_quantity(-3.91226876, 'kpc'), unyt_quantity(3.91226876, 'kpc'))\n",
      "Total number of cells: 16777216\n"
     ]
    }
   ],
   "source": [
    "# import sys\n",
    "# import os\n",
    "# import argparse\n",
    "\n",
    "# # Mock the command line arguments\n",
    "# sys.argv = ['ipykernel_launcher.py', '--file', os.getcwd()]\n",
    "\n",
    "lev = 0\n",
    "home = os.getcwd()\n",
    "\n",
    "# parser = argparse.ArgumentParser(description='Optional app description')\n",
    "# parser.add_argument('--file', type=str, help='Filename to be analysed')\n",
    "# args = parser.parse_args()\n",
    "\n",
    "class Data:\n",
    "    fac = 1\n",
    "    lev = 0\n",
    "    file = ''\n",
    "    dom_min = [0.0, 0.0, 0.0]\n",
    "    def getData(file):\n",
    "        dom_min = [0.0, 0.0, 0.0]\n",
    "        ds   = yt.load(file)\n",
    "        data = ds.covering_grid(level=lev, left_edge=dom_min, dims=ds.domain_dimensions * fac)\n",
    "        density = np.array(data['gasDensity'])\n",
    "        time = ds.current_time.to('Myr')\n",
    "        Egas = np.array(data[\"gasInternalEnergy\"])\n",
    "        return density, Egas, time\n",
    "\n",
    "def getdomain(file):\n",
    "    infile = open(file)\n",
    "    lines = infile.readlines()\n",
    "    dom_range = np.zeros((2,3))\n",
    "    ncell = np.zeros(3)\n",
    "    dom_min = [0.0,0.0,0.0]\n",
    "    dom_min[0] = float(lines[3].split()[2])\n",
    "    dom_min[1] = float(lines[3].split()[3])\n",
    "    dom_min[2] = float(lines[3].split()[4])\n",
    "    \n",
    "    dom_max = [0.0,0.0,0.0]\n",
    "    dom_max[0] = float(lines[4].split()[2])\n",
    "    dom_max[1] = float(lines[4].split()[3])\n",
    "    dom_max[2] = float(lines[4].split()[4])\n",
    "\n",
    "    ncell[0]=int(lines[15].split()[2])\n",
    "    ncell[1]=int(lines[15].split()[3])\n",
    "    ncell[2]=int(lines[15].split()[4])\n",
    "    \n",
    "    return dom_min, dom_max, ncell\n",
    "\n",
    "# Extracted information from the log\n",
    "domain_left_edge = ds_plt1555000.domain_left_edge.to('kpc')\n",
    "domain_right_edge = ds_plt1555000.domain_right_edge.to('kpc')\n",
    "domain_dimensions = ds_plt1555000.domain_dimensions\n",
    "domain_center = ds_plt1555000.domain_center.to('kpc')\n",
    "\n",
    "# Compute ranges\n",
    "x_range = (domain_left_edge[0], domain_right_edge[0])\n",
    "y_range = (domain_left_edge[1], domain_right_edge[1])\n",
    "z_range = (domain_left_edge[2], domain_right_edge[2])\n",
    "\n",
    "# Extract number of cells\n",
    "n_cell_x = domain_dimensions[0]\n",
    "n_cell_y = domain_dimensions[1]\n",
    "n_cell_z = domain_dimensions[2]\n",
    "n_cell_total = n_cell_x * n_cell_y * n_cell_z\n",
    "\n",
    "print(f\"x_range: {x_range}\")\n",
    "print(f\"y_range: {y_range}\")\n",
    "print(f\"z_range: {z_range}\")\n",
    "print(f\"Total number of cells: {n_cell_total}\")\n",
    "\n",
    "\n",
    "# if(lev==0):\n",
    "#     fac = 1\n",
    "# else:\n",
    "#     fac = 2 * lev\n",
    "# Data.fac = fac\n",
    "\n",
    "# infile = os.path.join(home, 'plt1555000')\n",
    "# dom_min, dom_max, ncells = getdomain(infile)\n",
    "# zrange = np.linspace(dom_min[2], dom_max[2], (fac*int(ncells[2])))\n",
    "\n",
    "# outhome = os.getcwd()\n",
    "# outputfile_name = os.path.join(outhome, 'plt1555000' + filename.split('plt')[1] + '.h5')\n",
    "\n"
   ]
  },
  {
   "cell_type": "code",
   "execution_count": 9,
   "id": "creative-delaware",
   "metadata": {},
   "outputs": [],
   "source": [
    "# ds   = yt.load(filename)\n",
    "# data = ds.covering_grid(level=lev, left_edge=dom_min, dims=ds.domain_dimensions * fac)\n",
    "timestep = ds_plt1555000.current_time.to('Myr')\n",
    "\n",
    "rho = gasDensity\n",
    "egas0 = gasInternalEnergy\n",
    "\n",
    "rho0 = rho/m_p_cgs\n",
    "\n",
    "\n",
    "logrho_arr = np.log10(nH_arr[:-1])\n",
    "logrho = np.log10(rho0)\n",
    "delta_rho = logrho_arr[1] - logrho_arr[0]\n",
    "idxrho = (np.floor((logrho - np.amin(logrho_arr))/delta_rho)).astype('int')\n",
    "\n",
    "logEgas_arr = np.log10(egas_arr[:-1])\n",
    "logEgas = np.log10(egas0)\n",
    "delta_egas = logEgas_arr[1] - logEgas_arr[0]\n",
    "idxegas = (np.floor((logEgas-np.amin(logEgas_arr))/delta_egas)).astype('int')\n",
    "\n",
    "\n",
    "wgt_rho  = (logrho - (np.amin(logrho_arr) + delta_rho*idxrho))/delta_rho\n",
    "wgt_egas = (logEgas - (np.amin(logEgas_arr) + delta_egas*idxegas))/delta_egas\n",
    "\n",
    "temp = (1.-wgt_rho)*(1.-wgt_egas)* T[tuple(idxegas)  , tuple(idxrho)]   +\\\n",
    "        wgt_rho *    wgt_egas * T[tuple(idxegas+1), tuple(idxrho+1)] +\\\n",
    "    (1. -wgt_rho)*    wgt_egas * T[tuple(idxegas+1), tuple(idxrho)]   +\\\n",
    "        wgt_rho *(1.-wgt_egas)* T[tuple(idxegas)  , tuple(idxrho+1)]  \n",
    "\n",
    "# rho0 = rho/m_p_cgs\n",
    "\n",
    "\n",
    "# logrho_arr = np.log10(nH_arr[:-1])\n",
    "# logrho = np.log10(rho0)\n",
    "# delta_rho = logrho_arr[1] - logrho_arr[0]\n",
    "# idxrho = (np.floor((logrho - np.amin(logrho_arr))/delta_rho)).astype('int')\n",
    "\n",
    "# logEgas_arr = np.log10(egas_arr[:-1])\n",
    "# logEgas = np.log10(egas0)\n",
    "# delta_egas = logEgas_arr[1] - logEgas_arr[0]\n",
    "# idxegas = (np.floor((logEgas-np.amin(logEgas_arr))/delta_egas)).astype('int')\n",
    "\n",
    "\n",
    "# wgt_rho  = (logrho - (np.amin(logrho_arr) + delta_rho*idxrho))/delta_rho\n",
    "# wgt_egas = (logEgas - (np.amin(logEgas_arr) + delta_egas*idxegas))/delta_egas\n",
    "\n",
    "# Temp = (1.-wgt_rho) * (1.-wgt_egas)* T[tuple(idxegas)  , tuple(idxrho)]   +\\\n",
    "#             wgt_rho  *    wgt_egas  * T[tuple(idxegas+1), tuple(idxrho+1)] +\\\n",
    "#         (1. -wgt_rho) *    wgt_egas  * T[tuple(idxegas+1), tuple(idxrho)]   +\\\n",
    "#             wgt_rho  * (1.-wgt_egas)* T[tuple(idxegas)  , tuple(idxrho+1)]  \n",
    "\n",
    "\n",
    "# outhome = '/scratch/pawsey0807/aditi/quokka_devbranch/Analysis/data/'\n",
    "# outputfile_name = os.path.join(outhome,build,run, 'temperature_' + filename.split('plt')[1] + '.h5')\n",
    "\n",
    "\n",
    "# hfo = h5py.File(outputfile_name, 'w')\n",
    "# hfo.create_dataset('Temp'       , data=temp)\n",
    "# hfo.create_dataset('Timestep', data=timestep)\n",
    "# hfo.close()\n",
    "# print(\"--------Written file------->>\",f)"
   ]
  },
  {
   "cell_type": "code",
   "execution_count": 10,
   "id": "classified-locator",
   "metadata": {},
   "outputs": [],
   "source": [
    "def _temp_field(field, data):\n",
    "#     reshaped_temp = temp.reshape(ds_plt1555000.domain_dimensions[::1])\n",
    "    reshaped_temp = temp\n",
    "    return data.ds.arr(reshaped_temp, \"K\")\n",
    "\n",
    "ds_plt1555000.add_field((\"gas\", \"temperature\"), function=_temp_field, units=\"K\", sampling_type='cell', \n",
    "                        force_override=True)\n",
    "\n",
    "ad_plt1555000 = ds_plt1555000.all_data()\n",
    "# print(ad_plt1555000[(\"gas\", \"temp\")])"
   ]
  },
  {
   "cell_type": "code",
   "execution_count": 11,
   "id": "computational-arrangement",
   "metadata": {},
   "outputs": [
    {
     "name": "stdout",
     "output_type": "stream",
     "text": [
      "(128, 128, 1024)\n",
      "[ 128  128 1024]\n"
     ]
    }
   ],
   "source": [
    "all_data = ds_plt1555000.all_data()\n",
    "print(all_data[(\"gas\", \"temperature\")].shape)\n",
    "print(ds_plt1555000.domain_dimensions)"
   ]
  },
  {
   "cell_type": "code",
   "execution_count": 12,
   "id": "retained-champion",
   "metadata": {},
   "outputs": [],
   "source": [
    "# Calculate the size of the domain in each dimension\n",
    "domain_size = domain_right_edge - domain_left_edge\n",
    "\n",
    "# Calculate the cell width in each dimension\n",
    "cell_widths = domain_size / domain_dimensions\n",
    "\n",
    "# Assuming cubic cells, take the cell width from one dimension\n",
    "dx = (cell_widths[0]).to(unyt.cm)\n",
    "dy = (cell_widths[1]).to(unyt.cm)\n",
    "dz = (cell_widths[2]).to(unyt.cm)\n",
    "\n",
    "ad_plt1555000 = ds_plt1555000.all_data()\n",
    "def _emission_measure(field, data):\n",
    "    nH = ad_plt1555000[('gas', 'density')]/m_p_cgs\n",
    "#     ne = 1.2 * nH\n",
    "    return nH **2 * dx * dy * dz  # .d extracts the value as a float\n",
    "\n",
    "ds_plt1555000.add_field(('gas', 'emission_measure'), \n",
    "                        function=_emission_measure, units='cm**-3', sampling_type='cell', force_override=True)"
   ]
  },
  {
   "cell_type": "code",
   "execution_count": 13,
   "id": "speaking-wednesday",
   "metadata": {},
   "outputs": [
    {
     "name": "stderr",
     "output_type": "stream",
     "text": [
      "pyxsim : [INFO     ] 2023-10-12 15:23:30,205 kT_min = 0.025 keV\n",
      "pyxsim : [INFO     ] 2023-10-12 15:23:30,206 kT_max = 64 keV\n",
      "pyxsim : [INFO     ] 2023-10-12 15:23:30,207 Using emission measure field '('gas', 'emission_measure')'.\n",
      "pyxsim : [INFO     ] 2023-10-12 15:23:30,207 Using temperature field '('gas', 'temperature')'.\n"
     ]
    },
    {
     "data": {
      "application/json": {
       "ascii": false,
       "bar_format": null,
       "colour": null,
       "elapsed": 0.0044744014739990234,
       "initial": 0,
       "n": 0,
       "ncols": null,
       "nrows": 72,
       "postfix": null,
       "prefix": "Preparing spectrum table ",
       "rate": null,
       "total": 138,
       "unit": "it",
       "unit_divisor": 1000,
       "unit_scale": false
      },
      "application/vnd.jupyter.widget-view+json": {
       "model_id": "e0425299316046d48ee967c014369841",
       "version_major": 2,
       "version_minor": 0
      },
      "text/plain": [
       "Preparing spectrum table :   0%|          | 0/138 [00:00<?, ?it/s]"
      ]
     },
     "metadata": {},
     "output_type": "display_data"
    },
    {
     "name": "stdout",
     "output_type": "stream",
     "text": [
      "[('gas', 'xray_emissivity_2.6831870459202334e-06_2926588.545703103_keV'), ('gas', 'xray_luminosity_2.6831870459202334e-06_2926588.545703103_keV'), ('gas', 'xray_photon_emissivity_2.6831870459202334e-06_2926588.545703103_keV')]\n"
     ]
    }
   ],
   "source": [
    "T_min = np.min(temp)  # minimum temperature for which we'll emit X-rays\n",
    "T_max = np.max(temp)  # maximum temperature for which we'll emit X-rays\n",
    "e_min = (c.k_B*T_min*u.K).to(u.keV)\n",
    "e_max = (c.k_B*T_max*u.K).to(u.keV)\n",
    "# n_cells = 1e4  # the number of cells to \"sample\" from the dataset\n",
    "\n",
    "ad_plt1555000 = ds_plt1555000.all_data()\n",
    "def _gasMass(field, data):\n",
    "    mass = ad_plt1555000[('gas', 'density')]*dx*dy*dz\n",
    "    return mass\n",
    "\n",
    "ds_plt1555000.add_field(('gas', 'mass'), \n",
    "                        function=_gasMass, units='g', sampling_type='cell', force_override=True)\n",
    "\n",
    "# source_model = CIESourceModel(\"apec\", \n",
    "#                               e_min, e_max, \n",
    "#                               Zmet=1.0, nbins=1024, binscale=\"log\")\n",
    "\n",
    "source_model = pyxsim.CIESourceModel(\"apec\", e_min, e_max, nbins=1024, Zmet=1.0, binscale=\"log\")\n",
    "xray_fields = source_model.make_source_fields(ds_plt1555000, e_min, e_max, force_override=True)\n",
    "# source_model = pyxsim.CIESourceModel(\"spex\", 0.5, 7.0, nbins=1024, Zmet=1.0, binscale=\"log\")\n",
    "# xray_fields = source_model.make_source_fields(ds_plt1555000, 0.5, 7.0, force_override=True)\n",
    "print(xray_fields)"
   ]
  },
  {
   "cell_type": "code",
   "execution_count": 14,
   "id": "permanent-visibility",
   "metadata": {},
   "outputs": [],
   "source": [
    "# source_model = CIESourceModel(\"apec\", \n",
    "#                               e_min, e_max, \n",
    "#                               Zmet=1.0, nbins=1024, binscale=\"log\")\n",
    "# source_model = pyxsim.CIESourceModel(\"spec\", 0.05, 11.0, 1000, 0.1, binscale=\"log\")\n",
    "region = ds_plt1555000.region(domain_center, domain_left_edge, domain_right_edge)\n",
    "\n",
    "exp_time = (300.0, \"ks\")  # exposure time\n",
    "area = (1000.0, \"cm**2\")  # collecting area\n",
    "redshift = 0.05\n",
    "\n",
    "# n_photons, n_cells  = pyxsim.make_photons(\"my_photons\", ds_plt1555000, redshift, area, exp_time, source_model)"
   ]
  },
  {
   "cell_type": "code",
   "execution_count": 15,
   "id": "noticed-aaron",
   "metadata": {},
   "outputs": [
    {
     "name": "stdout",
     "output_type": "stream",
     "text": [
      "YTRegion (plt1555000): , center=[1.509e+21 1.509e+21 0.000e+00] cm, left_edge=[ 1.48542188e+21  1.48542188e+21 -2.35781250e+19] cm, right_edge=[1.53257813e+21 1.53257813e+21 2.35781250e+19] cm\n"
     ]
    }
   ],
   "source": [
    "test_region = ds_plt1555000.region(\n",
    "    domain_center, domain_center-dx, domain_center+dx)\n",
    "print(test_region)"
   ]
  },
  {
   "cell_type": "code",
   "execution_count": 16,
   "id": "excited-adoption",
   "metadata": {},
   "outputs": [
    {
     "name": "stdout",
     "output_type": "stream",
     "text": [
      "YTSphere (plt1555000): , center=[1.509e+21 1.509e+21 0.000e+00] cm, radius=3.085677580962325e+22 cm\n"
     ]
    }
   ],
   "source": [
    "sp_plt1555000 = ds_plt1555000.sphere(\"c\", (10, \"kpc\"))\n",
    "print(sp_plt1555000)"
   ]
  },
  {
   "cell_type": "code",
   "execution_count": 17,
   "id": "e5d87f9a",
   "metadata": {},
   "outputs": [
    {
     "data": {
      "text/plain": [
       "[('boxlib', 'cell_volume'),\n",
       " ('boxlib', 'dx'),\n",
       " ('boxlib', 'dy'),\n",
       " ('boxlib', 'dz'),\n",
       " ('boxlib', 'gasDensity'),\n",
       " ('boxlib', 'gasEnergy'),\n",
       " ('boxlib', 'gasInternalEnergy'),\n",
       " ('boxlib', 'path_element_x'),\n",
       " ('boxlib', 'path_element_y'),\n",
       " ('boxlib', 'path_element_z'),\n",
       " ('boxlib', 'scalar_0'),\n",
       " ('boxlib', 'scalar_1'),\n",
       " ('boxlib', 'scalar_2'),\n",
       " ('boxlib', 'volume'),\n",
       " ('boxlib', 'x'),\n",
       " ('boxlib', 'x-GasMomentum'),\n",
       " ('boxlib', 'y'),\n",
       " ('boxlib', 'y-GasMomentum'),\n",
       " ('boxlib', 'z'),\n",
       " ('boxlib', 'z-GasMomentum'),\n",
       " ('gas', 'cell_volume'),\n",
       " ('gas', 'density'),\n",
       " ('gas', 'dx'),\n",
       " ('gas', 'dy'),\n",
       " ('gas', 'dz'),\n",
       " ('gas', 'emission_measure'),\n",
       " ('gas', 'gasInternalEnergy'),\n",
       " ('gas', 'mass'),\n",
       " ('gas', 'path_element_x'),\n",
       " ('gas', 'path_element_y'),\n",
       " ('gas', 'path_element_z'),\n",
       " ('gas', 'temperature'),\n",
       " ('gas', 'volume'),\n",
       " ('gas', 'x'),\n",
       " ('gas', 'xray_emissivity_2.6831870459202334e-06_2926588.545703103_keV'),\n",
       " ('gas', 'xray_luminosity_2.6831870459202334e-06_2926588.545703103_keV'),\n",
       " ('gas',\n",
       "  'xray_photon_emissivity_2.6831870459202334e-06_2926588.545703103_keV'),\n",
       " ('gas', 'y'),\n",
       " ('gas', 'z'),\n",
       " ('index', 'cell_volume'),\n",
       " ('index', 'cylindrical_radius'),\n",
       " ('index', 'cylindrical_theta'),\n",
       " ('index', 'cylindrical_z'),\n",
       " ('index', 'dx'),\n",
       " ('index', 'dy'),\n",
       " ('index', 'dz'),\n",
       " ('index', 'grid_indices'),\n",
       " ('index', 'grid_level'),\n",
       " ('index', 'morton_index'),\n",
       " ('index', 'ones'),\n",
       " ('index', 'ones_over_dx'),\n",
       " ('index', 'path_element_x'),\n",
       " ('index', 'path_element_y'),\n",
       " ('index', 'path_element_z'),\n",
       " ('index', 'radius'),\n",
       " ('index', 'spherical_phi'),\n",
       " ('index', 'spherical_radius'),\n",
       " ('index', 'spherical_theta'),\n",
       " ('index', 'virial_radius_fraction'),\n",
       " ('index', 'volume'),\n",
       " ('index', 'x'),\n",
       " ('index', 'y'),\n",
       " ('index', 'z'),\n",
       " ('index', 'zeros')]"
      ]
     },
     "execution_count": 17,
     "metadata": {},
     "output_type": "execute_result"
    }
   ],
   "source": [
    "ad_plt1555000.ds.derived_field_list"
   ]
  },
  {
   "cell_type": "code",
   "execution_count": 18,
   "id": "b444d2f0",
   "metadata": {},
   "outputs": [
    {
     "data": {
      "text/plain": [
       "(16777216,)"
      ]
     },
     "execution_count": 18,
     "metadata": {},
     "output_type": "execute_result"
    }
   ],
   "source": [
    "ad_plt1555000[('index','x')].shape"
   ]
  },
  {
   "cell_type": "code",
   "execution_count": 19,
   "id": "d905397b",
   "metadata": {},
   "outputs": [
    {
     "data": {
      "text/plain": [
       "(16777216,)"
      ]
     },
     "execution_count": 19,
     "metadata": {},
     "output_type": "execute_result"
    }
   ],
   "source": [
    "# sp_plt1555000 = ds_plt1555000.sphere(\"c\", (10, \"kpc\"))\n",
    "sp_plt1555000[('index','x')].shape"
   ]
  },
  {
   "cell_type": "code",
   "execution_count": 20,
   "id": "d374eb7e",
   "metadata": {},
   "outputs": [],
   "source": [
    "# %pdb"
   ]
  },
  {
   "cell_type": "code",
   "execution_count": 21,
   "id": "crucial-vintage",
   "metadata": {},
   "outputs": [
    {
     "name": "stderr",
     "output_type": "stream",
     "text": [
      "pyxsim : [INFO     ] 2023-10-12 15:24:41,381 Cosmology: h = 0.71, omega_matter = 0.27, omega_lambda = 0.73\n",
      "pyxsim : [INFO     ] 2023-10-12 15:24:41,382 Using emission measure field '('gas', 'emission_measure')'.\n",
      "pyxsim : [INFO     ] 2023-10-12 15:24:41,382 Using temperature field '('gas', 'temperature')'.\n"
     ]
    },
    {
     "data": {
      "application/json": {
       "ascii": false,
       "bar_format": null,
       "colour": null,
       "elapsed": 0.003576517105102539,
       "initial": 0,
       "n": 0,
       "ncols": null,
       "nrows": 72,
       "postfix": null,
       "prefix": "Preparing spectrum table ",
       "rate": null,
       "total": 138,
       "unit": "it",
       "unit_divisor": 1000,
       "unit_scale": false
      },
      "application/vnd.jupyter.widget-view+json": {
       "model_id": "1454126f267c4cc3846a0c5e98d2ec80",
       "version_major": 2,
       "version_minor": 0
      },
      "text/plain": [
       "Preparing spectrum table :   0%|          | 0/138 [00:00<?, ?it/s]"
      ]
     },
     "metadata": {},
     "output_type": "display_data"
    },
    {
     "data": {
      "application/json": {
       "ascii": false,
       "bar_format": null,
       "colour": null,
       "elapsed": 0.0045070648193359375,
       "initial": 0,
       "n": 0,
       "ncols": null,
       "nrows": 72,
       "postfix": null,
       "prefix": "Processing cells/particles ",
       "rate": null,
       "total": 268435456,
       "unit": "it",
       "unit_divisor": 1000,
       "unit_scale": false
      },
      "application/vnd.jupyter.widget-view+json": {
       "model_id": "6443656ad4004a04bec72ed2c64827b4",
       "version_major": 2,
       "version_minor": 0
      },
      "text/plain": [
       "Processing cells/particles :   0%|          | 0/268435456 [00:00<?, ?it/s]"
      ]
     },
     "metadata": {},
     "output_type": "display_data"
    },
    {
     "name": "stdout",
     "output_type": "stream",
     "text": [
      "An error occurred: index 1134054 is out of bounds for axis 0 with size 1048576\n"
     ]
    },
    {
     "name": "stderr",
     "output_type": "stream",
     "text": [
      "Traceback (most recent call last):\n",
      "  File \"/tmp/ipykernel_929193/3620299636.py\", line 15, in <module>\n",
      "    n_photons, n_cells = pyxsim.make_photons(\"plt1555000_photon_list\",\n",
      "  File \"/home/rongjun/.local/lib/python3.8/site-packages/pyxsim/photon_list.py\", line 416, in make_photons\n",
      "    pos = chunk[p_fields[i]][idxs].to_value(\"kpc\")\n",
      "  File \"/home/rongjun/.local/lib/python3.8/site-packages/unyt/array.py\", line 1722, in __getitem__\n",
      "    ret = super(unyt_array, self).__getitem__(item)\n",
      "IndexError: index 1134054 is out of bounds for axis 0 with size 1048576\n"
     ]
    }
   ],
   "source": [
    "# ds_plt1555000.force_periodicity()\n",
    "\n",
    "ad_plt1555000 = ds_plt1555000.all_data()\n",
    "buffer = 0.05 * dx  # this is a 5% buffer, but you can adjust as needed\n",
    "slightly_smaller_left_edge = domain_left_edge + buffer\n",
    "slightly_smaller_right_edge = domain_right_edge - buffer\n",
    "slightly_smaller_region = ds_plt1555000.region(\n",
    "    domain_center, slightly_smaller_left_edge, slightly_smaller_right_edge)\n",
    "sp_plt1555000 = ds_plt1555000.sphere(\"c\", (10, \"kpc\"))\n",
    "region = ds_plt1555000.region(domain_center, domain_left_edge, domain_right_edge)\n",
    "\n",
    "import traceback\n",
    "\n",
    "try:\n",
    "    n_photons, n_cells = pyxsim.make_photons(\"plt1555000_photon_list\", \n",
    "                              data_source=sp_plt1555000, \n",
    "                                  redshift=redshift, area=area, \n",
    "                              exp_time=exp_time, source_model=source_model)\n",
    "except Exception as e:\n",
    "    print(\"An error occurred:\", e)\n",
    "    traceback.print_exc()\n"
   ]
  },
  {
   "cell_type": "code",
   "execution_count": 22,
   "id": "bigger-class",
   "metadata": {},
   "outputs": [
    {
     "ename": "NameError",
     "evalue": "name 'photons' is not defined",
     "output_type": "error",
     "traceback": [
      "\u001b[0;31m---------------------------------------------------------------------------\u001b[0m",
      "\u001b[0;31mNameError\u001b[0m                                 Traceback (most recent call last)",
      "Cell \u001b[0;32mIn[22], line 2\u001b[0m\n\u001b[1;32m      1\u001b[0m \u001b[38;5;66;03m# Calculate the X-ray luminosity\u001b[39;00m\n\u001b[0;32m----> 2\u001b[0m energies \u001b[38;5;241m=\u001b[39m \u001b[43mphotons\u001b[49m[\u001b[38;5;124m\"\u001b[39m\u001b[38;5;124menergy\u001b[39m\u001b[38;5;124m\"\u001b[39m]\n\u001b[1;32m      3\u001b[0m L_X \u001b[38;5;241m=\u001b[39m np\u001b[38;5;241m.\u001b[39msum(energies)\n\u001b[1;32m      5\u001b[0m \u001b[38;5;28mprint\u001b[39m(L_X)\n",
      "\u001b[0;31mNameError\u001b[0m: name 'photons' is not defined"
     ]
    }
   ],
   "source": [
    "# Calculate the X-ray luminosity\n",
    "energies = photons[\"energy\"]\n",
    "L_X = np.sum(energies)\n",
    "\n",
    "print(L_X)"
   ]
  },
  {
   "cell_type": "code",
   "execution_count": null,
   "id": "ignored-binary",
   "metadata": {},
   "outputs": [],
   "source": []
  }
 ],
 "metadata": {
  "kernelspec": {
   "display_name": "Python 3 (ipykernel)",
   "language": "python",
   "name": "python3"
  },
  "language_info": {
   "codemirror_mode": {
    "name": "ipython",
    "version": 3
   },
   "file_extension": ".py",
   "mimetype": "text/x-python",
   "name": "python",
   "nbconvert_exporter": "python",
   "pygments_lexer": "ipython3",
   "version": "3.8.2"
  }
 },
 "nbformat": 4,
 "nbformat_minor": 5
}
